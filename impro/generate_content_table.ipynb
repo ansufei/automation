{
 "cells": [
  {
   "cell_type": "code",
   "execution_count": null,
   "id": "nuclear-basin",
   "metadata": {},
   "outputs": [],
   "source": [
    "# TO DO\n",
    "# remove category titles\n",
    "# remove duplicates\n",
    "# remove nb de joueurs, dureee, etc."
   ]
  },
  {
   "cell_type": "code",
   "execution_count": null,
   "id": "champion-attack",
   "metadata": {},
   "outputs": [],
   "source": [
    "import pandas as pd\n",
    "import re\n",
    "from collections import OrderedDict"
   ]
  },
  {
   "cell_type": "code",
   "execution_count": null,
   "id": "relative-article",
   "metadata": {},
   "outputs": [],
   "source": [
    "content = pd.read_csv('content.csv', encoding='utf-8')\n",
    "content.shape"
   ]
  },
  {
   "cell_type": "code",
   "execution_count": null,
   "id": "collective-donna",
   "metadata": {},
   "outputs": [],
   "source": [
    "def extract_into_paragraphs(x):\n",
    "    clean = x.replace('\\t','\\n').replace('\\x0b','\\n')\n",
    "    full = [p.replace('\\xa0',' ') for p in clean.split('\\n') if p != '']\n",
    "    return full"
   ]
  },
  {
   "cell_type": "code",
   "execution_count": null,
   "id": "vocal-vulnerability",
   "metadata": {},
   "outputs": [],
   "source": [
    "content['content_clean'] = content['content'].apply(extract_into_paragraphs)"
   ]
  },
  {
   "cell_type": "code",
   "execution_count": null,
   "id": "pursuant-emission",
   "metadata": {},
   "outputs": [],
   "source": [
    "section_titles = ['.{0,4}?[é|e]chauffement.{0,10}?','.{0,4}?exercices.{0,10}?', '.{0,4}?matchs?.{0,10}?',\n",
    "                  '.{0,4}?scè|enes.{0,10}?','.{0,4}?introduction.{0,10}?','.{0,4}?th[e|è]mes.{0,10}?','.{0,14}?Jeux.{0,10}?',\n",
    "                  '.{0,4}?autres: ']\n",
    "sections_titles_clean = {section_titles[0]:'Echauffement',\n",
    "           section_titles[1]:'Exercices',\n",
    "           section_titles[2]:'Matches',\n",
    "           section_titles[3]:'Matches',\n",
    "           section_titles[4]:'',\n",
    "           section_titles[5]:'Thèmes',\n",
    "           section_titles[6]:'Exercices',\n",
    "           section_titles[7]:'Matches'}"
   ]
  },
  {
   "cell_type": "code",
   "execution_count": null,
   "id": "spoken-security",
   "metadata": {},
   "outputs": [],
   "source": [
    "content_lengths = [len(x) for x in content['content_clean']]    \n",
    "content['new_index'] = content.apply(lambda x: sum(content_lengths[0: x['index']]), axis=1)    "
   ]
  },
  {
   "cell_type": "code",
   "execution_count": null,
   "id": "renewable-interest",
   "metadata": {},
   "outputs": [],
   "source": [
    "def build_section_indexes(x):\n",
    "    sections = OrderedDict()\n",
    "    for index, line in enumerate(x['content_clean']):\n",
    "        for title in section_titles:\n",
    "            if re.match(title, line.lower()):\n",
    "                i = x['new_index'] + index\n",
    "                sections[i] = sections_titles_clean[title]\n",
    "    return sections\n",
    "\n",
    "#build_section_indexes(content.iloc[2])\n",
    "content['sections'] = content.apply(build_section_indexes, axis=1)    "
   ]
  },
  {
   "cell_type": "code",
   "execution_count": null,
   "id": "challenging-permission",
   "metadata": {},
   "outputs": [],
   "source": [
    "content_long = content.explode('content_clean')"
   ]
  },
  {
   "cell_type": "code",
   "execution_count": null,
   "id": "conscious-plaza",
   "metadata": {},
   "outputs": [],
   "source": [
    "content_long.reset_index(inplace=True)"
   ]
  },
  {
   "cell_type": "code",
   "execution_count": null,
   "id": "knowing-subject",
   "metadata": {},
   "outputs": [],
   "source": [
    "content_long.shape"
   ]
  },
  {
   "cell_type": "code",
   "execution_count": null,
   "id": "double-opening",
   "metadata": {},
   "outputs": [],
   "source": [
    "def assign_categories(x):\n",
    "    for key in x['sections'].keys():\n",
    "        if x.name==key:\n",
    "            return x.name\n",
    "content_long['categories'] = content_long.apply(assign_categories, axis=1)"
   ]
  },
  {
   "cell_type": "code",
   "execution_count": null,
   "id": "consistent-producer",
   "metadata": {},
   "outputs": [],
   "source": [
    "content_long = content_long[content_long['content_clean']!=' ']\n",
    "content_long.shape"
   ]
  },
  {
   "cell_type": "code",
   "execution_count": null,
   "id": "aerial-medicaid",
   "metadata": {},
   "outputs": [],
   "source": [
    "content_long['categories_index'] = content_long.groupby('index')['categories'].apply(lambda x: x.fillna(method='ffill'))\n",
    "content_long['categories_index'].fillna(0, inplace=True)\n",
    "content_long['categories'] = content_long.apply(lambda x: x['sections'][x['categories_index']] if x['categories_index']>0 else '', axis=1)"
   ]
  },
  {
   "cell_type": "code",
   "execution_count": null,
   "id": "stunning-supplement",
   "metadata": {},
   "outputs": [],
   "source": [
    "content_long[['title','content_clean','categories']].to_csv('content_long.csv', encoding='utf-8', index=False)"
   ]
  },
  {
   "cell_type": "code",
   "execution_count": null,
   "id": "electric-emphasis",
   "metadata": {},
   "outputs": [],
   "source": []
  }
 ],
 "metadata": {
  "kernelspec": {
   "display_name": "improfoufous",
   "language": "python",
   "name": "improfoufous"
  },
  "language_info": {
   "codemirror_mode": {
    "name": "ipython",
    "version": 3
   },
   "file_extension": ".py",
   "mimetype": "text/x-python",
   "name": "python",
   "nbconvert_exporter": "python",
   "pygments_lexer": "ipython3",
   "version": "3.8.2"
  }
 },
 "nbformat": 4,
 "nbformat_minor": 5
}
