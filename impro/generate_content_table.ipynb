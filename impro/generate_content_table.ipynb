{
 "cells": [
  {
   "cell_type": "code",
   "execution_count": 382,
   "metadata": {},
   "outputs": [],
   "source": [
    "import pandas as pd\n",
    "import re\n",
    "from collections import OrderedDict"
   ]
  },
  {
   "cell_type": "code",
   "execution_count": 383,
   "metadata": {},
   "outputs": [
    {
     "data": {
      "text/plain": [
       "(48, 4)"
      ]
     },
     "execution_count": 383,
     "metadata": {},
     "output_type": "execute_result"
    }
   ],
   "source": [
    "content = pd.read_csv('content.csv', encoding='utf-8')\n",
    "content = content.rename(columns={'Unnamed: 0':'index','name':'title'})\n",
    "content.shape"
   ]
  },
  {
   "cell_type": "code",
   "execution_count": 384,
   "metadata": {},
   "outputs": [],
   "source": [
    "def extract_into_paragraphs(x):\n",
    "    clean = x.replace('\\t','\\n').replace('\\x0b','\\n')\n",
    "    full = [p.replace('\\xa0',' ') for p in clean.split('\\n') if p != '']\n",
    "    return full"
   ]
  },
  {
   "cell_type": "code",
   "execution_count": 385,
   "metadata": {},
   "outputs": [],
   "source": [
    "content['content_clean'] = content['content'].apply(extract_into_paragraphs)"
   ]
  },
  {
   "cell_type": "code",
   "execution_count": 386,
   "metadata": {},
   "outputs": [],
   "source": [
    "section_titles = ['.{0,4}[é|e]chauffement.{0,30}$','.{0,4}exercices.{0,30}$', '.{0,4}matchs?.{0,30}$',\n",
    "                  '.{0,4}sc[è|e]nes.{0,10}$','.{0,4}introduction.{0,10}$','.{0,10}?th[e|è]mes.{0,20}$',\n",
    "                  '.{0,4}jeux.{0,50}$','.{0,4}?autres.{0,10}$','^théorie$','^début des matchs$']\n",
    "sections_titles_clean = {section_titles[0]:'Echauffement',\n",
    "           section_titles[1]:'Exercices',\n",
    "           section_titles[2]:'Matches',\n",
    "           section_titles[3]:'Matches',\n",
    "           section_titles[4]:'remove',\n",
    "           section_titles[5]:'Thèmes',\n",
    "           section_titles[6]:'Exercices',\n",
    "           section_titles[7]:'Matches',\n",
    "           section_titles[8]:'',\n",
    "           section_titles[9]: 'Matches'}"
   ]
  },
  {
   "cell_type": "code",
   "execution_count": 387,
   "metadata": {},
   "outputs": [],
   "source": [
    "content_lengths = [len(x) for x in content['content_clean']]    \n",
    "content['new_index'] = content.apply(lambda x: sum(content_lengths[0: x['index']]), axis=1)    "
   ]
  },
  {
   "cell_type": "code",
   "execution_count": 388,
   "metadata": {},
   "outputs": [],
   "source": [
    "def build_section_indexes(x):\n",
    "    sections = OrderedDict()\n",
    "    for index, line in enumerate(x['content_clean']):\n",
    "        for title in section_titles:\n",
    "            if re.match(title, line.lower()):\n",
    "                i = x['new_index'] + index\n",
    "                sections[i] = sections_titles_clean[title]\n",
    "    return sections\n",
    "\n",
    "#build_section_indexes(content.iloc[2])\n",
    "content['sections'] = content.apply(build_section_indexes, axis=1)    "
   ]
  },
  {
   "cell_type": "code",
   "execution_count": 389,
   "metadata": {},
   "outputs": [],
   "source": [
    "content_long = content.explode('content_clean')"
   ]
  },
  {
   "cell_type": "code",
   "execution_count": 390,
   "metadata": {},
   "outputs": [],
   "source": [
    "content_long.reset_index(inplace=True)"
   ]
  },
  {
   "cell_type": "code",
   "execution_count": 391,
   "metadata": {},
   "outputs": [
    {
     "data": {
      "text/plain": [
       "(5069, 8)"
      ]
     },
     "execution_count": 391,
     "metadata": {},
     "output_type": "execute_result"
    }
   ],
   "source": [
    "content_long.shape"
   ]
  },
  {
   "cell_type": "code",
   "execution_count": 392,
   "metadata": {},
   "outputs": [],
   "source": [
    "def assign_categories(x):\n",
    "    for key in x['sections'].keys():\n",
    "        if x.name==key:\n",
    "            return x.name\n",
    "content_long['categories'] = content_long.apply(assign_categories, axis=1)"
   ]
  },
  {
   "cell_type": "code",
   "execution_count": 393,
   "metadata": {},
   "outputs": [
    {
     "data": {
      "text/plain": [
       "(5063, 9)"
      ]
     },
     "execution_count": 393,
     "metadata": {},
     "output_type": "execute_result"
    }
   ],
   "source": [
    "content_long = content_long[content_long['content_clean']!=' ']\n",
    "content_long.shape"
   ]
  },
  {
   "cell_type": "code",
   "execution_count": 394,
   "metadata": {},
   "outputs": [],
   "source": [
    "content_long['categories_index'] = content_long.groupby('index')['categories'].apply(lambda x: x.fillna(method='ffill'))\n",
    "content_long['categories_index'].fillna(0, inplace=True)\n",
    "content_long['categories'] = content_long.apply(lambda x: x['sections'][x['categories_index']] if x['categories_index']>0 else '', axis=1)"
   ]
  },
  {
   "cell_type": "code",
   "execution_count": 395,
   "metadata": {},
   "outputs": [],
   "source": [
    "# Remove category titles in content_clean\n",
    "def remove_categories_titles(x):\n",
    "    for key in x['sections'].keys():\n",
    "        if x.name==key:\n",
    "            return 'remove'\n",
    "    return x['categories']\n",
    "content_long['categories'] = content_long.apply(remove_categories_titles, axis=1)"
   ]
  },
  {
   "cell_type": "code",
   "execution_count": 396,
   "metadata": {},
   "outputs": [],
   "source": [
    "# Remove lines for non-category details on matches\n",
    "match_other = ['^type.?:', '^.{0,10}joueurs?.{0,40}$','^th[e|è]me', '^dur[é|e]e','^nature.{0,50}$','^temps','^caucus.{0,40}$']\n",
    "def remove_extra_matches(x, item):\n",
    "    if re.match(item, x['content_clean'].lower()):\n",
    "        if item==match_other[2]:\n",
    "            return 'Thèmes'\n",
    "        return 'remove'\n",
    "    return x['categories']\n",
    "for item in match_other:\n",
    "    content_long['categories'] = content_long.apply(remove_extra_matches, item=item, axis=1)"
   ]
  },
  {
   "cell_type": "code",
   "execution_count": 397,
   "metadata": {},
   "outputs": [],
   "source": [
    "# Save theory or introduction as a separate file\n",
    "content_final = content_long[(content_long.categories!='') & (content_long.categories!='remove')]\n",
    "theory = content_long[content_long.categories.isna()]"
   ]
  },
  {
   "cell_type": "code",
   "execution_count": 398,
   "metadata": {},
   "outputs": [
    {
     "data": {
      "text/plain": [
       "(3146, 10)"
      ]
     },
     "execution_count": 398,
     "metadata": {},
     "output_type": "execute_result"
    }
   ],
   "source": [
    "# Remove duplicates\n",
    "content_long = content_long.drop_duplicates(subset=['content_clean'])\n",
    "content_long.shape"
   ]
  },
  {
   "cell_type": "code",
   "execution_count": 399,
   "metadata": {},
   "outputs": [],
   "source": [
    "content_final[['title','content_clean','categories']].to_csv('content_long.csv', encoding='utf-8', index=False)\n",
    "theory[['title','content_clean']].to_csv('theory.csv', encoding='utf-8', index=False)"
   ]
  },
  {
   "cell_type": "code",
   "execution_count": 400,
   "metadata": {},
   "outputs": [
    {
     "data": {
      "text/html": [
       "<div>\n",
       "<style scoped>\n",
       "    .dataframe tbody tr th:only-of-type {\n",
       "        vertical-align: middle;\n",
       "    }\n",
       "\n",
       "    .dataframe tbody tr th {\n",
       "        vertical-align: top;\n",
       "    }\n",
       "\n",
       "    .dataframe thead th {\n",
       "        text-align: right;\n",
       "    }\n",
       "</style>\n",
       "<table border=\"1\" class=\"dataframe\">\n",
       "  <thead>\n",
       "    <tr style=\"text-align: right;\">\n",
       "      <th></th>\n",
       "      <th>level_0</th>\n",
       "      <th>index</th>\n",
       "      <th>title</th>\n",
       "      <th>content</th>\n",
       "      <th>id</th>\n",
       "      <th>content_clean</th>\n",
       "      <th>new_index</th>\n",
       "      <th>sections</th>\n",
       "      <th>categories_index</th>\n",
       "    </tr>\n",
       "    <tr>\n",
       "      <th>categories</th>\n",
       "      <th></th>\n",
       "      <th></th>\n",
       "      <th></th>\n",
       "      <th></th>\n",
       "      <th></th>\n",
       "      <th></th>\n",
       "      <th></th>\n",
       "      <th></th>\n",
       "      <th></th>\n",
       "    </tr>\n",
       "  </thead>\n",
       "  <tbody>\n",
       "    <tr>\n",
       "      <th>Echauffement</th>\n",
       "      <td>748</td>\n",
       "      <td>748</td>\n",
       "      <td>748</td>\n",
       "      <td>748</td>\n",
       "      <td>748</td>\n",
       "      <td>748</td>\n",
       "      <td>748</td>\n",
       "      <td>748</td>\n",
       "      <td>748</td>\n",
       "    </tr>\n",
       "    <tr>\n",
       "      <th>Exercices</th>\n",
       "      <td>1113</td>\n",
       "      <td>1113</td>\n",
       "      <td>1113</td>\n",
       "      <td>1113</td>\n",
       "      <td>1113</td>\n",
       "      <td>1113</td>\n",
       "      <td>1113</td>\n",
       "      <td>1113</td>\n",
       "      <td>1113</td>\n",
       "    </tr>\n",
       "    <tr>\n",
       "      <th>Matches</th>\n",
       "      <td>1113</td>\n",
       "      <td>1113</td>\n",
       "      <td>1113</td>\n",
       "      <td>1113</td>\n",
       "      <td>1113</td>\n",
       "      <td>1113</td>\n",
       "      <td>1113</td>\n",
       "      <td>1113</td>\n",
       "      <td>1113</td>\n",
       "    </tr>\n",
       "    <tr>\n",
       "      <th>Thèmes</th>\n",
       "      <td>483</td>\n",
       "      <td>483</td>\n",
       "      <td>483</td>\n",
       "      <td>483</td>\n",
       "      <td>483</td>\n",
       "      <td>483</td>\n",
       "      <td>483</td>\n",
       "      <td>483</td>\n",
       "      <td>483</td>\n",
       "    </tr>\n",
       "  </tbody>\n",
       "</table>\n",
       "</div>"
      ],
      "text/plain": [
       "              level_0  index  title  content    id  content_clean  new_index  \\\n",
       "categories                                                                     \n",
       "Echauffement      748    748    748      748   748            748        748   \n",
       "Exercices        1113   1113   1113     1113  1113           1113       1113   \n",
       "Matches          1113   1113   1113     1113  1113           1113       1113   \n",
       "Thèmes            483    483    483      483   483            483        483   \n",
       "\n",
       "              sections  categories_index  \n",
       "categories                                \n",
       "Echauffement       748               748  \n",
       "Exercices         1113              1113  \n",
       "Matches           1113              1113  \n",
       "Thèmes             483               483  "
      ]
     },
     "execution_count": 400,
     "metadata": {},
     "output_type": "execute_result"
    }
   ],
   "source": [
    "content_final.groupby('categories').count()"
   ]
  },
  {
   "cell_type": "code",
   "execution_count": null,
   "metadata": {},
   "outputs": [],
   "source": []
  }
 ],
 "metadata": {
  "kernelspec": {
   "display_name": "env",
   "language": "python",
   "name": "env"
  },
  "language_info": {
   "codemirror_mode": {
    "name": "ipython",
    "version": 3
   },
   "file_extension": ".py",
   "mimetype": "text/x-python",
   "name": "python",
   "nbconvert_exporter": "python",
   "pygments_lexer": "ipython3",
   "version": "3.8.2"
  }
 },
 "nbformat": 4,
 "nbformat_minor": 5
}
